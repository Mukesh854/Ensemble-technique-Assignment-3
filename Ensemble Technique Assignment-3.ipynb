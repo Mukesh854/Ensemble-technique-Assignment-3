{
 "cells": [
  {
   "cell_type": "markdown",
   "id": "d184125e-cbe4-4780-81e1-c94b6210849d",
   "metadata": {},
   "source": [
    "# Ensemble Technique Assignment-3"
   ]
  },
  {
   "cell_type": "markdown",
   "id": "6456d188-26a4-477b-bb8b-7d2dc201c0b8",
   "metadata": {},
   "source": [
    "Q1. What is Random Forest Regressor?"
   ]
  },
  {
   "cell_type": "markdown",
   "id": "5ef7472c-25c2-4c79-9220-99df8fdf4ae8",
   "metadata": {},
   "source": [
    "Random Forest Regressor is a machine learning algorithm that builds multiple decision trees and combines their prediction to make more accurate regression predictions.It's great for handling complex data and reducing overfitting."
   ]
  },
  {
   "cell_type": "markdown",
   "id": "d6674ded-09c5-47d5-9cff-80d735278647",
   "metadata": {},
   "source": [
    "Q2. How does Random Forest Regressor reduce the risk of overfitting?"
   ]
  },
  {
   "cell_type": "markdown",
   "id": "c26c4f8f-6208-4f9f-a06b-9e0b73b24711",
   "metadata": {},
   "source": [
    "\n",
    "Random Forest Regressor reduces overfitting by randomly sampling data, considering only subsets of features at each split, and averaging predictions from multiple trees. This diversity prevents individual trees from memorizing the training data too closely."
   ]
  },
  {
   "cell_type": "markdown",
   "id": "238ff6d3-396c-4c45-919e-7b40164fbe67",
   "metadata": {},
   "source": [
    "Q3. How does Random Forest Regressor aggregate the predictions of multiple decision trees?"
   ]
  },
  {
   "cell_type": "markdown",
   "id": "a2cf1694-73b0-4be1-b42f-715230b80653",
   "metadata": {},
   "source": [
    "\n",
    "Random Forest Regressor aggregates predictions by averaging the outputs of all the individual decision trees in the forest.\n",
    "\n",
    "\n",
    "\n",
    "\n"
   ]
  },
  {
   "cell_type": "markdown",
   "id": "2d86092b-337f-47bd-8cd2-3a6eb3fc92b8",
   "metadata": {},
   "source": [
    "Q4. What are the hyperparameters of Random Forest Regressor?"
   ]
  },
  {
   "cell_type": "markdown",
   "id": "544f77a8-26b2-453a-959c-120365a2c473",
   "metadata": {},
   "source": [
    ". n_estimators: Number of decision trees.\n",
    "\n",
    ". max_depth: Maximum depth of each tree.\n",
    "\n",
    ". min_samples_split: Minimum number of samples required to split a node.\n",
    "\n",
    ". min_samples_leaf: Minimum number of samples required to be at a leaf node.\n",
    "\n",
    ". max_features: Maximum number of features considered for splitting a node.\n",
    "\n",
    ". bootstrap: Whether to use bootstrap samples.\n",
    "\n",
    ". random_state: Seed for random number generation."
   ]
  },
  {
   "cell_type": "markdown",
   "id": "c0956395-9ff1-4181-b023-e7ace40ad714",
   "metadata": {},
   "source": [
    "Q5. What is the difference between Random Forest Regressor and Decision Tree Regressor?"
   ]
  },
  {
   "cell_type": "markdown",
   "id": "aecbc885-22cc-4185-85ff-6bdb16e4fec5",
   "metadata": {},
   "source": [
    "Random Forest Regressor is an ensemble of multiple decision trees, which reduces overfitting and increases robustness by averaging predictions. Decision Tree Regressor consists of a single decision tree and may be more interpretable but is prone to overfitting.\n",
    "\n",
    "\n",
    "\n",
    "\n",
    "\n"
   ]
  },
  {
   "cell_type": "markdown",
   "id": "30d5e3af-4880-41e5-be41-24a3ff083b5a",
   "metadata": {},
   "source": [
    "Q6. What are the advantages and disadvantages of Random Forest Regressor?"
   ]
  },
  {
   "cell_type": "markdown",
   "id": "26e51687-f682-474f-8165-19cfae7fbb9b",
   "metadata": {},
   "source": [
    "Advantages:\n",
    "\n",
    "High accuracy\n",
    "\n",
    "Robust to overfitting\n",
    "\n",
    "Handles large datasets and high dimensionality well\n",
    "\n",
    "Provides feature importance\n",
    "\n",
    "Robust to outliers and noisy data\n",
    "\n",
    "Disadvantages:\n",
    "\n",
    "Less interpretable\n",
    "\n",
    "Computationally expensive\n",
    "\n",
    "High memory usage\n",
    "\n",
    "Bias in feature importance\n",
    "Black box nature\n"
   ]
  },
  {
   "cell_type": "markdown",
   "id": "e2298228-9cf5-4888-8866-2188882260cd",
   "metadata": {},
   "source": [
    "Q7. What is the output of Random Forest Regressor?"
   ]
  },
  {
   "cell_type": "markdown",
   "id": "bbbb88e0-2a5e-4dcd-8aa2-4633dcd265a4",
   "metadata": {},
   "source": [
    "\n",
    "The output of a Random Forest Regressor is a continuous numerical value, representing the predicted target variable for each input instance.\n",
    "\n",
    "\n",
    "\n",
    "\n"
   ]
  },
  {
   "cell_type": "markdown",
   "id": "718e5674-1cb8-4ae9-bcc8-802955d94ad7",
   "metadata": {},
   "source": [
    "Q8. Can Random Forest Regressor be used for classification tasks?"
   ]
  },
  {
   "cell_type": "markdown",
   "id": "d0b62782-77ee-4b95-856f-fdd390bd21b7",
   "metadata": {},
   "source": [
    "\n",
    "No, Random Forest Regressor is designed for regression tasks, not classification."
   ]
  },
  {
   "cell_type": "code",
   "execution_count": null,
   "id": "0f94046f-c22b-471e-9fd1-6b9349253907",
   "metadata": {},
   "outputs": [],
   "source": []
  }
 ],
 "metadata": {
  "kernelspec": {
   "display_name": "Python 3 (ipykernel)",
   "language": "python",
   "name": "python3"
  },
  "language_info": {
   "codemirror_mode": {
    "name": "ipython",
    "version": 3
   },
   "file_extension": ".py",
   "mimetype": "text/x-python",
   "name": "python",
   "nbconvert_exporter": "python",
   "pygments_lexer": "ipython3",
   "version": "3.10.8"
  }
 },
 "nbformat": 4,
 "nbformat_minor": 5
}
